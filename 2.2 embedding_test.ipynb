{
 "cells": [
  {
   "cell_type": "code",
   "execution_count": 1,
   "id": "2e90d636",
   "metadata": {},
   "outputs": [
    {
     "data": {
      "text/plain": [
       "True"
      ]
     },
     "execution_count": 1,
     "metadata": {},
     "output_type": "execute_result"
    }
   ],
   "source": [
    "from dotenv import load_dotenv\n",
    "load_dotenv()"
   ]
  },
  {
   "cell_type": "code",
   "execution_count": 2,
   "id": "fccedb70",
   "metadata": {},
   "outputs": [],
   "source": [
    "from openai import OpenAI\n",
    "openai_client = OpenAI()"
   ]
  },
  {
   "cell_type": "code",
   "execution_count": 3,
   "id": "beed2c4e",
   "metadata": {},
   "outputs": [],
   "source": [
    "import numpy as np\n",
    "\n",
    "def cosine_similarity(vec1, vec2):\n",
    "    \"\"\"\n",
    "    Calculate the cosine similarity between two vectors.\n",
    "\n",
    "    Parameters:\n",
    "    vec1 (numpy.array): First vector.\n",
    "    vec2 (numpy.array): Second vector.\n",
    "\n",
    "    Returns:\n",
    "    float: Cosine similarity between vec1 and vec2.\n",
    "    \"\"\"\n",
    "    dot_product = np.dot(vec1, vec2)\n",
    "    norm_vec1 = np.linalg.norm(vec1)\n",
    "    norm_vec2 = np.linalg.norm(vec2)\n",
    "\n",
    "    if norm_vec1 == 0 or norm_vec2 == 0:\n",
    "        return 0.0\n",
    "    return dot_product / (norm_vec1 * norm_vec2)"
   ]
  },
  {
   "cell_type": "code",
   "execution_count": 4,
   "id": "6b42e429",
   "metadata": {},
   "outputs": [
    {
     "data": {
      "text/plain": [
       "array([ 0.01040417,  0.02499519, -0.0014776 , ...,  0.00835009,\n",
       "        0.01049861, -0.00254005])"
      ]
     },
     "execution_count": 4,
     "metadata": {},
     "output_type": "execute_result"
    }
   ],
   "source": [
    "king_embedding_response = openai_client.embeddings.create(\n",
    "    input=\"king\",\n",
    "    model=\"text-embedding-3-large\"\n",
    ")\n",
    "\n",
    "king_vector = np.array(king_embedding_response.data[0].embedding)\n",
    "king_vector"
   ]
  },
  {
   "cell_type": "code",
   "execution_count": 5,
   "id": "68792fa0",
   "metadata": {},
   "outputs": [
    {
     "data": {
      "text/plain": [
       "array([-0.01385735,  0.0008602 , -0.0167823 , ...,  0.00017693,\n",
       "        0.01159847,  0.00638929])"
      ]
     },
     "execution_count": 5,
     "metadata": {},
     "output_type": "execute_result"
    }
   ],
   "source": [
    "queen_embedding_response = openai_client.embeddings.create(\n",
    "    input=\"queen\",\n",
    "    model=\"text-embedding-3-large\"\n",
    ")\n",
    "\n",
    "queen_vector = np.array(queen_embedding_response.data[0].embedding)\n",
    "queen_vector"
   ]
  },
  {
   "cell_type": "code",
   "execution_count": 6,
   "id": "b6b67678",
   "metadata": {},
   "outputs": [
    {
     "data": {
      "text/plain": [
       "0.5552268369726675"
      ]
     },
     "execution_count": 6,
     "metadata": {},
     "output_type": "execute_result"
    }
   ],
   "source": [
    "king_queen_similarity = cosine_similarity(king_vector, queen_vector)\n",
    "king_queen_similarity"
   ]
  },
  {
   "cell_type": "code",
   "execution_count": 7,
   "id": "9c722eea",
   "metadata": {},
   "outputs": [
    {
     "data": {
      "text/plain": [
       "array([-0.01999537,  0.00620363,  0.01191717, ...,  0.00094749,\n",
       "       -0.02679118, -0.0058524 ])"
      ]
     },
     "execution_count": 7,
     "metadata": {},
     "output_type": "execute_result"
    }
   ],
   "source": [
    "slave_embedding_response = openai_client.embeddings.create(\n",
    "    input=\"slave\",\n",
    "    model=\"text-embedding-3-large\"\n",
    ")\n",
    "\n",
    "slave_vector = np.array(slave_embedding_response.data[0].embedding)\n",
    "slave_vector"
   ]
  },
  {
   "cell_type": "code",
   "execution_count": 8,
   "id": "34d1adc9",
   "metadata": {},
   "outputs": [
    {
     "data": {
      "text/plain": [
       "0.2947745074537996"
      ]
     },
     "execution_count": 8,
     "metadata": {},
     "output_type": "execute_result"
    }
   ],
   "source": [
    "king_slave_similarity = cosine_similarity(king_vector, slave_vector)\n",
    "king_slave_similarity"
   ]
  },
  {
   "cell_type": "code",
   "execution_count": 9,
   "id": "52b0a888",
   "metadata": {},
   "outputs": [
    {
     "data": {
      "text/plain": [
       "array([-0.00595223,  0.01159333, -0.01316932, ..., -0.00357134,\n",
       "        0.01323696, -0.00083999])"
      ]
     },
     "execution_count": 9,
     "metadata": {},
     "output_type": "execute_result"
    }
   ],
   "source": [
    "korean_king_embedding_response = openai_client.embeddings.create(\n",
    "    input=\"왕\",\n",
    "    model=\"text-embedding-3-large\"\n",
    ")\n",
    "\n",
    "korean_king_vector = np.array(korean_king_embedding_response.data[0].embedding)\n",
    "korean_king_vector"
   ]
  },
  {
   "cell_type": "code",
   "execution_count": 10,
   "id": "f99797ed",
   "metadata": {},
   "outputs": [
    {
     "data": {
      "text/plain": [
       "0.5474873912140233"
      ]
     },
     "execution_count": 10,
     "metadata": {},
     "output_type": "execute_result"
    }
   ],
   "source": [
    "openai_king_similarity = cosine_similarity(king_vector, korean_king_vector)\n",
    "openai_king_similarity"
   ]
  },
  {
   "cell_type": "code",
   "execution_count": 11,
   "id": "793e6349",
   "metadata": {},
   "outputs": [],
   "source": [
    "from openai import OpenAI\n",
    "import os\n",
    "\n",
    "upstage_client = OpenAI(\n",
    "    api_key=os.getenv(\"UPSTAGE_API_KEY\"),\n",
    "    base_url=\"https://api.upstage.ai/v1/solar\",\n",
    ")"
   ]
  },
  {
   "cell_type": "code",
   "execution_count": 12,
   "id": "10ceb82a",
   "metadata": {},
   "outputs": [],
   "source": [
    "upstage_king_response = upstage_client.embeddings.create(\n",
    "    input=\"king\",\n",
    "    model=\"solar-embedding-1-large-query\",\n",
    ")\n",
    "\n",
    "upstage_king_vector = np.array(upstage_king_response.data[0].embedding)"
   ]
  },
  {
   "cell_type": "code",
   "execution_count": 13,
   "id": "b10f4bec",
   "metadata": {},
   "outputs": [],
   "source": [
    "upstage_korean_king_response = upstage_client.embeddings.create(\n",
    "    input=\"왕\",\n",
    "    model=\"solar-embedding-1-large-query\",\n",
    ")\n",
    "\n",
    "upstage_korean_king_vector = np.array(upstage_korean_king_response.data[0].embedding)"
   ]
  },
  {
   "cell_type": "code",
   "execution_count": 14,
   "id": "ea323c7e",
   "metadata": {},
   "outputs": [
    {
     "data": {
      "text/plain": [
       "0.852149171074866"
      ]
     },
     "execution_count": 14,
     "metadata": {},
     "output_type": "execute_result"
    }
   ],
   "source": [
    "upstage_king_similarity = cosine_similarity(upstage_king_vector, upstage_korean_king_vector)\n",
    "upstage_king_similarity"
   ]
  },
  {
   "cell_type": "code",
   "execution_count": null,
   "id": "d0356133",
   "metadata": {},
   "outputs": [],
   "source": []
  }
 ],
 "metadata": {
  "kernelspec": {
   "display_name": "venv",
   "language": "python",
   "name": "python3"
  },
  "language_info": {
   "codemirror_mode": {
    "name": "ipython",
    "version": 3
   },
   "file_extension": ".py",
   "mimetype": "text/x-python",
   "name": "python",
   "nbconvert_exporter": "python",
   "pygments_lexer": "ipython3",
   "version": "3.11.5"
  }
 },
 "nbformat": 4,
 "nbformat_minor": 5
}
