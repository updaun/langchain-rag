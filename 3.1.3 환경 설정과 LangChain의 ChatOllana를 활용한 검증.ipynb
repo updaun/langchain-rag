{
 "cells": [
  {
   "cell_type": "markdown",
   "metadata": {},
   "source": [
    "# 1. 패키지 설치"
   ]
  },
  {
   "cell_type": "code",
   "execution_count": 1,
   "metadata": {},
   "outputs": [
    {
     "name": "stdout",
     "output_type": "stream",
     "text": [
      "\n",
      "\u001b[1m[\u001b[0m\u001b[34;49mnotice\u001b[0m\u001b[1;39;49m]\u001b[0m\u001b[39;49m A new release of pip is available: \u001b[0m\u001b[31;49m23.0.1\u001b[0m\u001b[39;49m -> \u001b[0m\u001b[32;49m24.2\u001b[0m\n",
      "\u001b[1m[\u001b[0m\u001b[34;49mnotice\u001b[0m\u001b[1;39;49m]\u001b[0m\u001b[39;49m To update, run: \u001b[0m\u001b[32;49mpip install --upgrade pip\u001b[0m\n",
      "Note: you may need to restart the kernel to use updated packages.\n"
     ]
    }
   ],
   "source": [
    "%pip install -q python-dotenv langchain-community"
   ]
  },
  {
   "cell_type": "markdown",
   "metadata": {},
   "source": [
    "# 2. LLM 답변 생성\n",
    "\n",
    "- `ChatOllama` 를 활용한 LLM 답변 생성\n",
    "- 터미널에서 `ollama pull gemma2` 와 같이 원하는 모델을 가져와야 실행 가능"
   ]
  },
  {
   "cell_type": "code",
   "execution_count": 1,
   "metadata": {},
   "outputs": [],
   "source": [
    "from langchain_community.chat_models import ChatOllama\n",
    "\n",
    "llm = ChatOllama(model=\"gemma2\")\n"
   ]
  },
  {
   "cell_type": "code",
   "execution_count": 2,
   "metadata": {},
   "outputs": [],
   "source": [
    "ai_message = llm.invoke(\"인프런에 어떤 강의가 있나요?\")"
   ]
  },
  {
   "cell_type": "code",
   "execution_count": 3,
   "metadata": {},
   "outputs": [
    {
     "data": {
      "text/plain": [
       "'인프런에는 엄청나게 다양한 강의들이 있습니다!  어떤 분야에 관심이 있는지 알려주시면, 더 자세하고 도움이 되는 답변을 드릴 수 있어요. 😄\\n\\n예를 들어:\\n\\n* **IT & 개발:** 프로그래밍 (Python, Java, JavaScript 등), 웹개발, 데이터 분석, 클라우드 컴퓨팅\\n* **디자인:** UI/UX 디자인, 그래픽 디자인, 일러스트레이션, 비주얼 효과\\n* **비즈니스 & 마케팅:** 사업 계획, 디지털 마케팅, 콘텐츠 마케팅, 리더십\\n* **취업 & 경력 개발:** 이력서 작성, 면접 준비, 네트워킹, 인턴십\\n\\n  ... 등등이 있습니다. \\n\\n혹시 특정 분야나 강의 이름을 알고 계신가요?  🔍'"
      ]
     },
     "execution_count": 3,
     "metadata": {},
     "output_type": "execute_result"
    }
   ],
   "source": [
    "ai_message.content"
   ]
  },
  {
   "cell_type": "code",
   "execution_count": null,
   "metadata": {},
   "outputs": [],
   "source": []
  }
 ],
 "metadata": {
  "kernelspec": {
   "display_name": "inflearn-llm-application",
   "language": "python",
   "name": "python3"
  },
  "language_info": {
   "codemirror_mode": {
    "name": "ipython",
    "version": 3
   },
   "file_extension": ".py",
   "mimetype": "text/x-python",
   "name": "python",
   "nbconvert_exporter": "python",
   "pygments_lexer": "ipython3",
   "version": "3.10.12"
  }
 },
 "nbformat": 4,
 "nbformat_minor": 2
}
